{
 "cells": [
  {
   "cell_type": "code",
   "execution_count": 1,
   "id": "b2b63c5b",
   "metadata": {},
   "outputs": [
    {
     "name": "stdout",
     "output_type": "stream",
     "text": [
      "模型已加载\n"
     ]
    }
   ],
   "source": [
    "import pandas as pd\n",
    "import pickle\n",
    "import os\n",
    "from sklearn.preprocessing import StandardScaler\n",
    "\n",
    "# 加载模型\n",
    "filename = 'loan_approval_model.pkl'\n",
    "model_dir = 'model'  # 模型存储目录\n",
    "model_path = os.path.join(model_dir, filename)  # 模型存储路径\n",
    "loaded_model = pickle.load(open(model_path, 'rb'))\n",
    "\n",
    "print(\"模型已加载\")"
   ]
  },
  {
   "cell_type": "code",
   "execution_count": 5,
   "id": "57018327",
   "metadata": {},
   "outputs": [
    {
     "name": "stdout",
     "output_type": "stream",
     "text": [
      "Scaler已加载\n",
      "预测结果：贷款已批准\n"
     ]
    }
   ],
   "source": [
    "# 准备新数据\n",
    "new_data = pd.DataFrame({\n",
    "    'Income': [61853],  # 替换为实际收入\n",
    "    'Credit_Score': [732],  # 替换为实际信用评分\n",
    "    'Loan_Amount': [19210],  # 替换为实际贷款金额\n",
    "    'DTI_Ratio': [38],  # 替换为实际 DTI 比率\n",
    "    'Employment_Status': [1]  # 替换为实际就业状态 (1: employed, 0: unemployed)\n",
    "})\n",
    "\n",
    "# 加载 scaler 和 特征列名\n",
    "scaler_path = os.path.join(model_dir, 'scaler.pkl')\n",
    "scaler, feature_names = pickle.load(open(scaler_path, 'rb')) # 加载 scaler 和 列名\n",
    "print(\"Scaler已加载\")\n",
    "\n",
    "# 确保新数据的列名与训练数据一致\n",
    "# 检查 new_data 是否包含所有需要的特征\n",
    "for feature in feature_names:\n",
    "    if feature not in new_data.columns:\n",
    "        print(f\"错误：新数据缺少特征 {feature}，请检查数据\")\n",
    "        exit()  # 退出程序，因为缺少特征无法进行预测\n",
    "\n",
    "new_data = new_data[feature_names]  # 按照模型训练时的特征顺序进行选择\n",
    "\n",
    "# 对新数据进行缩放\n",
    "new_data_scaled = scaler.transform(new_data)\n",
    "\n",
    "# 重新赋值列名\n",
    "new_data_scaled = pd.DataFrame(new_data_scaled, columns=feature_names)\n",
    "\n",
    "# 使用加载的模型进行预测\n",
    "new_predictions = loaded_model.predict(new_data_scaled)\n",
    "\n",
    "# 打印预测结果\n",
    "if new_predictions[0] == 1:\n",
    "    print(\"预测结果：贷款已批准\")\n",
    "else:\n",
    "    print(\"预测结果：贷款已拒绝\")"
   ]
  }
 ],
 "metadata": {
  "kernelspec": {
   "display_name": "langchain_env",
   "language": "python",
   "name": "python3"
  },
  "language_info": {
   "codemirror_mode": {
    "name": "ipython",
    "version": 3
   },
   "file_extension": ".py",
   "mimetype": "text/x-python",
   "name": "python",
   "nbconvert_exporter": "python",
   "pygments_lexer": "ipython3",
   "version": "3.12.9"
  }
 },
 "nbformat": 4,
 "nbformat_minor": 5
}
