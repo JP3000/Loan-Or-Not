{
 "cells": [
  {
   "cell_type": "code",
   "execution_count": 5,
   "id": "2561247f",
   "metadata": {},
   "outputs": [],
   "source": [
    "import pandas as pd\n",
    "\n",
    "df = pd.read_csv(\"data/loan_data_with_predicted_categories.csv\")"
   ]
  },
  {
   "cell_type": "code",
   "execution_count": 3,
   "id": "4286d62c",
   "metadata": {},
   "outputs": [
    {
     "name": "stderr",
     "output_type": "stream",
     "text": [
      "Device set to use mps\n"
     ]
    },
    {
     "name": "stderr",
     "output_type": "stream",
     "text": [
      "Xet Storage is enabled for this repo, but the 'hf_xet' package is not installed. Falling back to regular HTTP download. For better performance, install the package with: `pip install huggingface_hub[hf_xet]` or `pip install hf_xet`\n"
     ]
    }
   ],
   "source": [
    "from transformers import pipeline\n",
    "classifier = pipeline(\"text-classification\",\n",
    "                      model=\"j-hartmann/emotion-english-distilroberta-base\",\n",
    "                      top_k = None,\n",
    "                      device = \"mps\")"
   ]
  },
  {
   "cell_type": "code",
   "execution_count": 4,
   "id": "ec398bc0",
   "metadata": {},
   "outputs": [
    {
     "data": {
      "text/plain": [
       "[[{'label': 'joy', 'score': 0.9771687984466553},\n",
       "  {'label': 'surprise', 'score': 0.008528684265911579},\n",
       "  {'label': 'neutral', 'score': 0.005764600355178118},\n",
       "  {'label': 'anger', 'score': 0.004419783595949411},\n",
       "  {'label': 'sadness', 'score': 0.002092392183840275},\n",
       "  {'label': 'disgust', 'score': 0.001611993182450533},\n",
       "  {'label': 'fear', 'score': 0.0004138521908316761}]]"
      ]
     },
     "execution_count": 4,
     "metadata": {},
     "output_type": "execute_result"
    }
   ],
   "source": [
    "classifier(\"I love this!\")"
   ]
  },
  {
   "cell_type": "code",
   "execution_count": 24,
   "id": "7ec88ac2",
   "metadata": {},
   "outputs": [
    {
     "data": {
      "text/plain": [
       "'I need a loan to start a small business.'"
      ]
     },
     "execution_count": 24,
     "metadata": {},
     "output_type": "execute_result"
    }
   ],
   "source": [
    "df['Text'][4]"
   ]
  },
  {
   "cell_type": "code",
   "execution_count": 25,
   "id": "cdc8820e",
   "metadata": {},
   "outputs": [
    {
     "data": {
      "text/plain": [
       "[[{'label': 'fear', 'score': 0.5070176720619202},\n",
       "  {'label': 'joy', 'score': 0.290171355009079},\n",
       "  {'label': 'sadness', 'score': 0.13195233047008514},\n",
       "  {'label': 'anger', 'score': 0.029947245493531227},\n",
       "  {'label': 'neutral', 'score': 0.028335804119706154},\n",
       "  {'label': 'disgust', 'score': 0.006313301622867584},\n",
       "  {'label': 'surprise', 'score': 0.006262229755520821}]]"
      ]
     },
     "execution_count": 25,
     "metadata": {},
     "output_type": "execute_result"
    }
   ],
   "source": [
    "classifier(df['Text'][4])"
   ]
  },
  {
   "cell_type": "code",
   "execution_count": 28,
   "id": "8ede466d",
   "metadata": {},
   "outputs": [],
   "source": [
    "import numpy as np\n",
    "\n",
    "emotion_labels = [\"anger\", \"disgust\", \"fear\", \"joy\", \"sadness\", \"surprise\", \"neutral\"]\n",
    "\n",
    "# 创建新的列来存储情绪分析结果\n",
    "for label in emotion_labels:\n",
    "    df[label] = np.nan  # 初始化为 NaN\n",
    "\n",
    "# 循环遍历每一行数据，进行情绪分析\n",
    "for index, row in df.iterrows():\n",
    "    try:\n",
    "        text = row['Text']  # 提取文本内容\n",
    "        result = classifier(text)  # 进行情绪分析\n",
    "\n",
    "        # 创建一个字典来存储当前行的情绪分析结果\n",
    "        emotion_scores = {item['label']: item['score'] for item in result[0]}\n",
    "\n",
    "        # 将结果按照 emotion_labels 的顺序存储到 DataFrame 中\n",
    "        for label in emotion_labels:\n",
    "            df.loc[index, label] = emotion_scores.get(label, np.nan)\n",
    "\n",
    "    except IndexError:\n",
    "        print(f\"IndexError at index {index}. Skipping row.\")\n",
    "        continue # 跳过当前行\n",
    "    except Exception as e:\n",
    "        print(f\"Error at index {index}: {e}. Skipping row.\")\n",
    "        continue # 跳过当前行\n"
   ]
  },
  {
   "cell_type": "code",
   "execution_count": 29,
   "id": "76f2bf1d",
   "metadata": {},
   "outputs": [
    {
     "data": {
      "text/html": [
       "<div>\n",
       "<style scoped>\n",
       "    .dataframe tbody tr th:only-of-type {\n",
       "        vertical-align: middle;\n",
       "    }\n",
       "\n",
       "    .dataframe tbody tr th {\n",
       "        vertical-align: top;\n",
       "    }\n",
       "\n",
       "    .dataframe thead th {\n",
       "        text-align: right;\n",
       "    }\n",
       "</style>\n",
       "<table border=\"1\" class=\"dataframe\">\n",
       "  <thead>\n",
       "    <tr style=\"text-align: right;\">\n",
       "      <th></th>\n",
       "      <th>Text</th>\n",
       "      <th>Income</th>\n",
       "      <th>Credit_Score</th>\n",
       "      <th>Loan_Amount</th>\n",
       "      <th>DTI_Ratio</th>\n",
       "      <th>Employment_Status</th>\n",
       "      <th>Approval</th>\n",
       "      <th>id</th>\n",
       "      <th>tagged_text</th>\n",
       "      <th>predicted_category</th>\n",
       "      <th>anger</th>\n",
       "      <th>disgust</th>\n",
       "      <th>fear</th>\n",
       "      <th>joy</th>\n",
       "      <th>sadness</th>\n",
       "      <th>surprise</th>\n",
       "      <th>neutral</th>\n",
       "    </tr>\n",
       "  </thead>\n",
       "  <tbody>\n",
       "    <tr>\n",
       "      <th>0</th>\n",
       "      <td>I need a loan to pay for an international vaca...</td>\n",
       "      <td>26556</td>\n",
       "      <td>581</td>\n",
       "      <td>8314</td>\n",
       "      <td>79.26</td>\n",
       "      <td>employed</td>\n",
       "      <td>Rejected</td>\n",
       "      <td>0</td>\n",
       "      <td>0 I need a loan to pay for an international va...</td>\n",
       "      <td>Travel</td>\n",
       "      <td>0.032620</td>\n",
       "      <td>0.009153</td>\n",
       "      <td>0.066997</td>\n",
       "      <td>0.023172</td>\n",
       "      <td>0.834439</td>\n",
       "      <td>0.003592</td>\n",
       "      <td>0.030028</td>\n",
       "    </tr>\n",
       "    <tr>\n",
       "      <th>1</th>\n",
       "      <td>I want to make home improvements like installi...</td>\n",
       "      <td>197392</td>\n",
       "      <td>389</td>\n",
       "      <td>111604</td>\n",
       "      <td>22.14</td>\n",
       "      <td>employed</td>\n",
       "      <td>Rejected</td>\n",
       "      <td>1</td>\n",
       "      <td>1 I want to make home improvements like instal...</td>\n",
       "      <td>Other</td>\n",
       "      <td>0.028483</td>\n",
       "      <td>0.019443</td>\n",
       "      <td>0.011550</td>\n",
       "      <td>0.083611</td>\n",
       "      <td>0.383042</td>\n",
       "      <td>0.026668</td>\n",
       "      <td>0.447203</td>\n",
       "    </tr>\n",
       "    <tr>\n",
       "      <th>2</th>\n",
       "      <td>I need a loan for home renovation, including a...</td>\n",
       "      <td>44561</td>\n",
       "      <td>523</td>\n",
       "      <td>34118</td>\n",
       "      <td>45.44</td>\n",
       "      <td>employed</td>\n",
       "      <td>Rejected</td>\n",
       "      <td>2</td>\n",
       "      <td>2 I need a loan for home renovation, including...</td>\n",
       "      <td>Renovation</td>\n",
       "      <td>0.026961</td>\n",
       "      <td>0.032717</td>\n",
       "      <td>0.055367</td>\n",
       "      <td>0.033183</td>\n",
       "      <td>0.299088</td>\n",
       "      <td>0.033726</td>\n",
       "      <td>0.518959</td>\n",
       "    </tr>\n",
       "    <tr>\n",
       "      <th>3</th>\n",
       "      <td>I need funds to buy new furniture and applianc...</td>\n",
       "      <td>190363</td>\n",
       "      <td>729</td>\n",
       "      <td>118757</td>\n",
       "      <td>10.22</td>\n",
       "      <td>unemployed</td>\n",
       "      <td>Rejected</td>\n",
       "      <td>3</td>\n",
       "      <td>3 I need funds to buy new furniture and applia...</td>\n",
       "      <td>House Purchase</td>\n",
       "      <td>0.032589</td>\n",
       "      <td>0.014520</td>\n",
       "      <td>0.030510</td>\n",
       "      <td>0.141397</td>\n",
       "      <td>0.558331</td>\n",
       "      <td>0.019454</td>\n",
       "      <td>0.203200</td>\n",
       "    </tr>\n",
       "    <tr>\n",
       "      <th>4</th>\n",
       "      <td>I need a loan to start a small business.</td>\n",
       "      <td>61853</td>\n",
       "      <td>732</td>\n",
       "      <td>19210</td>\n",
       "      <td>44.13</td>\n",
       "      <td>employed</td>\n",
       "      <td>Approved</td>\n",
       "      <td>4</td>\n",
       "      <td>4 I need a loan to start a small business.</td>\n",
       "      <td>Other</td>\n",
       "      <td>0.029947</td>\n",
       "      <td>0.006313</td>\n",
       "      <td>0.507018</td>\n",
       "      <td>0.290171</td>\n",
       "      <td>0.131952</td>\n",
       "      <td>0.006262</td>\n",
       "      <td>0.028336</td>\n",
       "    </tr>\n",
       "  </tbody>\n",
       "</table>\n",
       "</div>"
      ],
      "text/plain": [
       "                                                Text  Income  Credit_Score  \\\n",
       "0  I need a loan to pay for an international vaca...   26556           581   \n",
       "1  I want to make home improvements like installi...  197392           389   \n",
       "2  I need a loan for home renovation, including a...   44561           523   \n",
       "3  I need funds to buy new furniture and applianc...  190363           729   \n",
       "4           I need a loan to start a small business.   61853           732   \n",
       "\n",
       "   Loan_Amount  DTI_Ratio Employment_Status  Approval  id  \\\n",
       "0         8314      79.26          employed  Rejected   0   \n",
       "1       111604      22.14          employed  Rejected   1   \n",
       "2        34118      45.44          employed  Rejected   2   \n",
       "3       118757      10.22        unemployed  Rejected   3   \n",
       "4        19210      44.13          employed  Approved   4   \n",
       "\n",
       "                                         tagged_text predicted_category  \\\n",
       "0  0 I need a loan to pay for an international va...             Travel   \n",
       "1  1 I want to make home improvements like instal...              Other   \n",
       "2  2 I need a loan for home renovation, including...         Renovation   \n",
       "3  3 I need funds to buy new furniture and applia...     House Purchase   \n",
       "4         4 I need a loan to start a small business.              Other   \n",
       "\n",
       "      anger   disgust      fear       joy   sadness  surprise   neutral  \n",
       "0  0.032620  0.009153  0.066997  0.023172  0.834439  0.003592  0.030028  \n",
       "1  0.028483  0.019443  0.011550  0.083611  0.383042  0.026668  0.447203  \n",
       "2  0.026961  0.032717  0.055367  0.033183  0.299088  0.033726  0.518959  \n",
       "3  0.032589  0.014520  0.030510  0.141397  0.558331  0.019454  0.203200  \n",
       "4  0.029947  0.006313  0.507018  0.290171  0.131952  0.006262  0.028336  "
      ]
     },
     "execution_count": 29,
     "metadata": {},
     "output_type": "execute_result"
    }
   ],
   "source": [
    "df.head(5)"
   ]
  },
  {
   "cell_type": "code",
   "execution_count": 30,
   "id": "2b112d2f",
   "metadata": {},
   "outputs": [],
   "source": [
    "# 保存结果到 CSV 文件\n",
    "df.to_csv(\"data/loan_data_with_sentiment_analysis.csv\", index=False)"
   ]
  }
 ],
 "metadata": {
  "kernelspec": {
   "display_name": "langchain_env",
   "language": "python",
   "name": "python3"
  },
  "language_info": {
   "codemirror_mode": {
    "name": "ipython",
    "version": 3
   },
   "file_extension": ".py",
   "mimetype": "text/x-python",
   "name": "python",
   "nbconvert_exporter": "python",
   "pygments_lexer": "ipython3",
   "version": "3.12.9"
  }
 },
 "nbformat": 4,
 "nbformat_minor": 5
}
