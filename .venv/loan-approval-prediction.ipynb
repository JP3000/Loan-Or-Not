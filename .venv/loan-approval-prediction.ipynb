{
 "cells": [
  {
   "cell_type": "code",
   "execution_count": 161,
   "id": "d44c363a",
   "metadata": {},
   "outputs": [],
   "source": [
    "# 由于在data- exploration的关系热力图显示贷款审批与否和 收入（-0.14），信用评分（-0.35），DTI率（0.17）\n",
    "# 我想还是通过数据来预测贷款审批与否，文本可以通过大模型的相似度匹配，在确认相似的文本中，\n",
    "# 贷款的用途（分类时的预测类别），来缩小样本后，在对相关性的数据进行模型预测\n",
    "import pandas as pd\n",
    "\n",
    "df = pd.read_csv('data/loan_data_with_sentiment_analysis.csv')"
   ]
  },
  {
   "cell_type": "code",
   "execution_count": 162,
   "id": "90a44059",
   "metadata": {},
   "outputs": [
    {
     "data": {
      "text/html": [
       "<div>\n",
       "<style scoped>\n",
       "    .dataframe tbody tr th:only-of-type {\n",
       "        vertical-align: middle;\n",
       "    }\n",
       "\n",
       "    .dataframe tbody tr th {\n",
       "        vertical-align: top;\n",
       "    }\n",
       "\n",
       "    .dataframe thead th {\n",
       "        text-align: right;\n",
       "    }\n",
       "</style>\n",
       "<table border=\"1\" class=\"dataframe\">\n",
       "  <thead>\n",
       "    <tr style=\"text-align: right;\">\n",
       "      <th></th>\n",
       "      <th>Text</th>\n",
       "      <th>Income</th>\n",
       "      <th>Credit_Score</th>\n",
       "      <th>Loan_Amount</th>\n",
       "      <th>DTI_Ratio</th>\n",
       "      <th>Employment_Status</th>\n",
       "      <th>Approval</th>\n",
       "      <th>id</th>\n",
       "      <th>tagged_text</th>\n",
       "      <th>predicted_category</th>\n",
       "      <th>anger</th>\n",
       "      <th>disgust</th>\n",
       "      <th>fear</th>\n",
       "      <th>joy</th>\n",
       "      <th>sadness</th>\n",
       "      <th>surprise</th>\n",
       "      <th>neutral</th>\n",
       "    </tr>\n",
       "  </thead>\n",
       "  <tbody>\n",
       "    <tr>\n",
       "      <th>0</th>\n",
       "      <td>I need a loan to pay for an international vaca...</td>\n",
       "      <td>26556</td>\n",
       "      <td>581</td>\n",
       "      <td>8314</td>\n",
       "      <td>79.26</td>\n",
       "      <td>employed</td>\n",
       "      <td>Rejected</td>\n",
       "      <td>0</td>\n",
       "      <td>0 I need a loan to pay for an international va...</td>\n",
       "      <td>Travel</td>\n",
       "      <td>0.032620</td>\n",
       "      <td>0.009153</td>\n",
       "      <td>0.066997</td>\n",
       "      <td>0.023172</td>\n",
       "      <td>0.834439</td>\n",
       "      <td>0.003592</td>\n",
       "      <td>0.030028</td>\n",
       "    </tr>\n",
       "    <tr>\n",
       "      <th>1</th>\n",
       "      <td>I want to make home improvements like installi...</td>\n",
       "      <td>197392</td>\n",
       "      <td>389</td>\n",
       "      <td>111604</td>\n",
       "      <td>22.14</td>\n",
       "      <td>employed</td>\n",
       "      <td>Rejected</td>\n",
       "      <td>1</td>\n",
       "      <td>1 I want to make home improvements like instal...</td>\n",
       "      <td>Other</td>\n",
       "      <td>0.028483</td>\n",
       "      <td>0.019443</td>\n",
       "      <td>0.011550</td>\n",
       "      <td>0.083611</td>\n",
       "      <td>0.383042</td>\n",
       "      <td>0.026668</td>\n",
       "      <td>0.447203</td>\n",
       "    </tr>\n",
       "    <tr>\n",
       "      <th>2</th>\n",
       "      <td>I need a loan for home renovation, including a...</td>\n",
       "      <td>44561</td>\n",
       "      <td>523</td>\n",
       "      <td>34118</td>\n",
       "      <td>45.44</td>\n",
       "      <td>employed</td>\n",
       "      <td>Rejected</td>\n",
       "      <td>2</td>\n",
       "      <td>2 I need a loan for home renovation, including...</td>\n",
       "      <td>Renovation</td>\n",
       "      <td>0.026961</td>\n",
       "      <td>0.032717</td>\n",
       "      <td>0.055367</td>\n",
       "      <td>0.033183</td>\n",
       "      <td>0.299088</td>\n",
       "      <td>0.033726</td>\n",
       "      <td>0.518959</td>\n",
       "    </tr>\n",
       "  </tbody>\n",
       "</table>\n",
       "</div>"
      ],
      "text/plain": [
       "                                                Text  Income  Credit_Score  \\\n",
       "0  I need a loan to pay for an international vaca...   26556           581   \n",
       "1  I want to make home improvements like installi...  197392           389   \n",
       "2  I need a loan for home renovation, including a...   44561           523   \n",
       "\n",
       "   Loan_Amount  DTI_Ratio Employment_Status  Approval  id  \\\n",
       "0         8314      79.26          employed  Rejected   0   \n",
       "1       111604      22.14          employed  Rejected   1   \n",
       "2        34118      45.44          employed  Rejected   2   \n",
       "\n",
       "                                         tagged_text predicted_category  \\\n",
       "0  0 I need a loan to pay for an international va...             Travel   \n",
       "1  1 I want to make home improvements like instal...              Other   \n",
       "2  2 I need a loan for home renovation, including...         Renovation   \n",
       "\n",
       "      anger   disgust      fear       joy   sadness  surprise   neutral  \n",
       "0  0.032620  0.009153  0.066997  0.023172  0.834439  0.003592  0.030028  \n",
       "1  0.028483  0.019443  0.011550  0.083611  0.383042  0.026668  0.447203  \n",
       "2  0.026961  0.032717  0.055367  0.033183  0.299088  0.033726  0.518959  "
      ]
     },
     "execution_count": 162,
     "metadata": {},
     "output_type": "execute_result"
    }
   ],
   "source": [
    "df.head(3)"
   ]
  },
  {
   "cell_type": "code",
   "execution_count": 163,
   "id": "a464c90f",
   "metadata": {},
   "outputs": [
    {
     "name": "stderr",
     "output_type": "stream",
     "text": [
      "/var/folders/fq/3pmzyx3s60l0sjm0lfcpdfhh0000gn/T/ipykernel_2367/1765280213.py:5: FutureWarning: Downcasting behavior in `replace` is deprecated and will be removed in a future version. To retain the old behavior, explicitly call `result.infer_objects(copy=False)`. To opt-in to the future behavior, set `pd.set_option('future.no_silent_downcasting', True)`\n",
      "  df[\"Employment_Status\"] = df[\"Employment_Status\"].replace({\"unemployed\": 0, \"employed\": 1}).astype(int)\n",
      "/var/folders/fq/3pmzyx3s60l0sjm0lfcpdfhh0000gn/T/ipykernel_2367/1765280213.py:6: FutureWarning: Downcasting behavior in `replace` is deprecated and will be removed in a future version. To retain the old behavior, explicitly call `result.infer_objects(copy=False)`. To opt-in to the future behavior, set `pd.set_option('future.no_silent_downcasting', True)`\n",
      "  df[\"Approval\"] = df[\"Approval\"].replace({\"Rejected\" : 0, \"Approved\" : 1}).astype(int)\n"
     ]
    }
   ],
   "source": [
    "# “批准”列是我们的目标，目前是一个字符串。让我们把它编码为一个数字二进制变量。\n",
    "# 1表示批准，0表示拒绝。\n",
    "# 将数据集中的employment_status列中的字符串值转换为数值\n",
    "# employed为1，unemployed为0\n",
    "df[\"Employment_Status\"] = df[\"Employment_Status\"].replace({\"unemployed\": 0, \"employed\": 1}).astype(int)\n",
    "df[\"Approval\"] = df[\"Approval\"].replace({\"Rejected\" : 0, \"Approved\" : 1}).astype(int)"
   ]
  },
  {
   "cell_type": "code",
   "execution_count": 164,
   "id": "db710029",
   "metadata": {},
   "outputs": [
    {
     "name": "stdout",
     "output_type": "stream",
     "text": [
      "\n",
      "Balanced Class Distribution (Downsampling):\n"
     ]
    },
    {
     "data": {
      "text/plain": [
       "Approval\n",
       "0    3933\n",
       "1    3933\n",
       "Name: count, dtype: int64"
      ]
     },
     "execution_count": 164,
     "metadata": {},
     "output_type": "execute_result"
    }
   ],
   "source": [
    "# 平衡审批通过与拒绝的比例为1:1\n",
    "rejected = df[df[\"Approval\"] == 0 ]\n",
    "\n",
    "approved = df[df[\"Approval\"] == 1]\n",
    "\n",
    "# 对多数类（拒绝）进行下采样以匹配少数类的大小\n",
    "rejected_downsampled = rejected.sample(n=len(approved), random_state=42)\n",
    "\n",
    "# 将两个类合并成一个平衡的数据集\n",
    "df_balanced = pd.concat([rejected_downsampled, approved])\n",
    "\n",
    "# 检查新的类分布\n",
    "print(\"\\nBalanced Class Distribution (Downsampling):\")\n",
    "df_balanced[\"Approval\"].value_counts()"
   ]
  },
  {
   "cell_type": "code",
   "execution_count": 165,
   "id": "e2a0d993",
   "metadata": {},
   "outputs": [
    {
     "name": "stdout",
     "output_type": "stream",
     "text": [
      "Accuracy: 0.923728813559322\n",
      "              precision    recall  f1-score   support\n",
      "\n",
      "           0       0.95      0.89      0.92      1179\n",
      "           1       0.90      0.96      0.93      1181\n",
      "\n",
      "    accuracy                           0.92      2360\n",
      "   macro avg       0.93      0.92      0.92      2360\n",
      "weighted avg       0.93      0.92      0.92      2360\n",
      "\n",
      "Accuracy of the Logistic Regression model: 0.9237\n"
     ]
    }
   ],
   "source": [
    "from sklearn.model_selection import train_test_split\n",
    "from sklearn.linear_model import LogisticRegression\n",
    "from sklearn.metrics import accuracy_score, confusion_matrix, classification_report, roc_curve, auc\n",
    "import pandas as pd\n",
    "from sklearn.model_selection import train_test_split\n",
    "\n",
    "df = df_balanced\n",
    "X = df[['Income', 'Credit_Score', 'Loan_Amount', 'DTI_Ratio', 'Employment_Status']]\n",
    "y = df['Approval']\n",
    "\n",
    "# 将数据集分割为训练集和测试集\n",
    "X_train, X_test, y_train, y_test = train_test_split(X, y, test_size=0.3, random_state=42)\n",
    "\n",
    "# 初始化并训练逻辑回归模型\n",
    "model = LogisticRegression(max_iter=1000)\n",
    "model.fit(X_train, y_train)\n",
    "\n",
    "# 在测试集上进行预测\n",
    "y_pred = model.predict(X_test)\n",
    "\n",
    "# 评估模型\n",
    "accuracy = accuracy_score(y_test, y_pred)\n",
    "print(f\"Accuracy: {accuracy}\")\n",
    "\n",
    "# 打印分类报告\n",
    "print(classification_report(y_test, y_pred))\n",
    "\n",
    "# Calculate prediction accuracy\n",
    "accuracy = accuracy_score(y_test, y_pred)\n",
    "print(f'Accuracy of the Logistic Regression model: {accuracy:.4f}')"
   ]
  },
  {
   "cell_type": "code",
   "execution_count": 166,
   "id": "6c7a6d80",
   "metadata": {},
   "outputs": [
    {
     "data": {
      "image/png": "[encoded data removed]",
      "text/plain": [
       "<Figure size 600x400 with 2 Axes>"
      ]
     },
     "metadata": {},
     "output_type": "display_data"
    }
   ],
   "source": [
    "# 使用热图绘制混淆矩阵\n",
    "import matplotlib.pyplot as plt\n",
    "import seaborn as sns\n",
    "cm = confusion_matrix(y_test, y_pred)\n",
    "plt.figure(figsize=(6, 4))\n",
    "sns.heatmap(cm, annot=True, fmt='d', cmap='Blues')\n",
    "plt.title('Confusion Matrix')\n",
    "plt.xlabel('Predicted')\n",
    "plt.ylabel('Actual')\n",
    "plt.show()"
   ]
  },
  {
   "cell_type": "code",
   "execution_count": 169,
   "id": "f8e8300b",
   "metadata": {},
   "outputs": [
    {
     "name": "stdout",
     "output_type": "stream",
     "text": [
      "模型已保存为 model/loan_approval_model.pkl\n",
      "Scaler 已保存为 model/scaler.pkl\n"
     ]
    }
   ],
   "source": [
    "import pickle\n",
    "import os\n",
    "\n",
    "# 保存模型\n",
    "filename = 'loan_approval_model.pkl'\n",
    "model_dir = 'model'  # 模型存储目录\n",
    "\n",
    "# 检查模型存储目录是否存在，如果不存在则创建\n",
    "if not os.path.exists(model_dir):\n",
    "    os.makedirs(model_dir)\n",
    "\n",
    "model_path = os.path.join(model_dir, filename)  # 模型存储路径\n",
    "pickle.dump(model, open(model_path, 'wb'))\n",
    "\n",
    "print(f\"模型已保存为 {model_path}\")\n",
    "\n",
    "# 保存 scaler\n",
    "scaler_path = os.path.join(model_dir, 'scaler.pkl')\n",
    "pickle.dump(scaler, open(scaler_path, 'wb'))\n",
    "\n",
    "print(f\"Scaler 已保存为 {scaler_path}\")"
   ]
  }
 ],
 "metadata": {
  "kernelspec": {
   "display_name": "langchain_env",
   "language": "python",
   "name": "python3"
  },
  "language_info": {
   "codemirror_mode": {
    "name": "ipython",
    "version": 3
   },
   "file_extension": ".py",
   "mimetype": "text/x-python",
   "name": "python",
   "nbconvert_exporter": "python",
   "pygments_lexer": "ipython3",
   "version": "3.12.9"
  }
 },
 "nbformat": 4,
 "nbformat_minor": 5
}
