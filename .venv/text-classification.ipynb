{
 "cells": [
  {
   "cell_type": "code",
   "execution_count": 6,
   "id": "a9c487ec",
   "metadata": {},
   "outputs": [
    {
     "data": {
      "text/html": [
       "<div>\n",
       "<style scoped>\n",
       "    .dataframe tbody tr th:only-of-type {\n",
       "        vertical-align: middle;\n",
       "    }\n",
       "\n",
       "    .dataframe tbody tr th {\n",
       "        vertical-align: top;\n",
       "    }\n",
       "\n",
       "    .dataframe thead th {\n",
       "        text-align: right;\n",
       "    }\n",
       "</style>\n",
       "<table border=\"1\" class=\"dataframe\">\n",
       "  <thead>\n",
       "    <tr style=\"text-align: right;\">\n",
       "      <th></th>\n",
       "      <th>Text</th>\n",
       "      <th>Income</th>\n",
       "      <th>Credit_Score</th>\n",
       "      <th>Loan_Amount</th>\n",
       "      <th>DTI_Ratio</th>\n",
       "      <th>Employment_Status</th>\n",
       "      <th>Approval</th>\n",
       "      <th>id</th>\n",
       "      <th>tagged_text</th>\n",
       "    </tr>\n",
       "  </thead>\n",
       "  <tbody>\n",
       "    <tr>\n",
       "      <th>0</th>\n",
       "      <td>I need a loan to pay for an international vaca...</td>\n",
       "      <td>26556</td>\n",
       "      <td>581</td>\n",
       "      <td>8314</td>\n",
       "      <td>79.26</td>\n",
       "      <td>employed</td>\n",
       "      <td>Rejected</td>\n",
       "      <td>0</td>\n",
       "      <td>0 I need a loan to pay for an international va...</td>\n",
       "    </tr>\n",
       "    <tr>\n",
       "      <th>1</th>\n",
       "      <td>I want to make home improvements like installi...</td>\n",
       "      <td>197392</td>\n",
       "      <td>389</td>\n",
       "      <td>111604</td>\n",
       "      <td>22.14</td>\n",
       "      <td>employed</td>\n",
       "      <td>Rejected</td>\n",
       "      <td>1</td>\n",
       "      <td>1 I want to make home improvements like instal...</td>\n",
       "    </tr>\n",
       "    <tr>\n",
       "      <th>2</th>\n",
       "      <td>I need a loan for home renovation, including a...</td>\n",
       "      <td>44561</td>\n",
       "      <td>523</td>\n",
       "      <td>34118</td>\n",
       "      <td>45.44</td>\n",
       "      <td>employed</td>\n",
       "      <td>Rejected</td>\n",
       "      <td>2</td>\n",
       "      <td>2 I need a loan for home renovation, including...</td>\n",
       "    </tr>\n",
       "  </tbody>\n",
       "</table>\n",
       "</div>"
      ],
      "text/plain": [
       "                                                Text  Income  Credit_Score  \\\n",
       "0  I need a loan to pay for an international vaca...   26556           581   \n",
       "1  I want to make home improvements like installi...  197392           389   \n",
       "2  I need a loan for home renovation, including a...   44561           523   \n",
       "\n",
       "   Loan_Amount  DTI_Ratio Employment_Status  Approval  id  \\\n",
       "0         8314      79.26          employed  Rejected   0   \n",
       "1       111604      22.14          employed  Rejected   1   \n",
       "2        34118      45.44          employed  Rejected   2   \n",
       "\n",
       "                                         tagged_text  \n",
       "0  0 I need a loan to pay for an international va...  \n",
       "1  1 I want to make home improvements like instal...  \n",
       "2  2 I need a loan for home renovation, including...  "
      ]
     },
     "execution_count": 6,
     "metadata": {},
     "output_type": "execute_result"
    }
   ],
   "source": [
    "# 计划按照就业情况对文本进行分类\n",
    "import pandas as pd\n",
    "df = pd.read_csv('data/loan_data_cleaned.csv')\n",
    "df.head(3)"
   ]
  },
  {
   "cell_type": "code",
   "execution_count": 8,
   "id": "1d543a2d",
   "metadata": {},
   "outputs": [
    {
     "name": "stderr",
     "output_type": "stream",
     "text": [
      "Xet Storage is enabled for this repo, but the 'hf_xet' package is not installed. Falling back to regular HTTP download. For better performance, install the package with: `pip install huggingface_hub[hf_xet]` or `pip install hf_xet`\n",
      "Device set to use mps\n"
     ]
    }
   ],
   "source": [
    "# 通过将文本进行分类，确定贷款的用途\n",
    "# 导入 transformers 库中的 pipeline，用于加载预训练模型\n",
    "from transformers import pipeline  \n",
    "\n",
    "# 定义候选文本标签\n",
    "candidate_labels = [\"House Purchase\", \"Car Purchase\", \"Education\", \"Medical\", \"Travel\", \"Entrepreneurship\", \"Renovation\", \"Other\"]\n",
    "\n",
    "# facebook/bart-large-mnli模型准确度蛮高的，但是太大了，先用小模型完成任务\n",
    "# 加载 zero-shot-classification 模型，并传入候选文本标签\n",
    "pipe = pipeline(\"zero-shot-classification\",\n",
    "                model=\"cross-encoder/nli-distilroberta-base\",\n",
    "                device=\"mps\")"
   ]
  },
  {
   "cell_type": "code",
   "execution_count": 9,
   "id": "e51630e8",
   "metadata": {},
   "outputs": [
    {
     "name": "stdout",
     "output_type": "stream",
     "text": [
      "文本：0 I need a loan to pay for an international vacation with my family.\n",
      "预测的标签：Travel\n"
     ]
    }
   ],
   "source": [
    "# 获取第一行的 text 列的值\n",
    "text = df[\"tagged_text\"][0]\n",
    "result = pipe(text, candidate_labels, multi_label=False)  # 使用 zero-shot 分类器进行分类\n",
    "predicted_label = result['labels'][0]\n",
    "\n",
    "# 打印结果\n",
    "print(f\"文本：{text}\")\n",
    "print(f\"预测的标签：{predicted_label}\")"
   ]
  },
  {
   "cell_type": "code",
   "execution_count": 11,
   "id": "f411a037",
   "metadata": {},
   "outputs": [
    {
     "name": "stdout",
     "output_type": "stream",
     "text": [
      "                                         tagged_text predicted_category\n",
      "0  0 I need a loan to pay for an international va...             Travel\n",
      "1  1 I want to make home improvements like instal...              Other\n",
      "2  2 I need a loan for home renovation, including...         Renovation\n",
      "3  3 I need funds to buy new furniture and applia...     House Purchase\n",
      "4         4 I need a loan to start a small business.              Other\n"
     ]
    }
   ],
   "source": [
    "# 批量大小\n",
    "batch_size = 32\n",
    "\n",
    "# 存储预测结果的列表\n",
    "predicted_categories = []\n",
    "\n",
    "# 循环遍历每一批数据，进行 zero-shot 分类\n",
    "for i in range(0, len(df), batch_size):\n",
    "    # 获取当前批次的文本\n",
    "    batch_texts = df[\"tagged_text\"][i:i + batch_size].tolist()\n",
    "\n",
    "    # 使用 zero-shot 分类器进行分类\n",
    "    results = pipe(batch_texts, candidate_labels, multi_label=False)\n",
    "\n",
    "    # 提取预测的标签\n",
    "    for result in results:\n",
    "        predicted_label = result['labels'][0]\n",
    "        predicted_categories.append(predicted_label)\n",
    "\n",
    "# 将预测的标签添加到 DataFrame 中\n",
    "df[\"predicted_category\"] = predicted_categories[:len(df)]  # 确保长度一致\n",
    "\n",
    "# 打印结果\n",
    "print(df[[\"tagged_text\", \"predicted_category\"]].head())"
   ]
  },
  {
   "cell_type": "code",
   "execution_count": 13,
   "id": "0a178aad",
   "metadata": {},
   "outputs": [],
   "source": [
    "# 保存结果到 CSV 文件\n",
    "df.to_csv(\"data/loan_data_with_predicted_categories.csv\", index=False)"
   ]
  }
 ],
 "metadata": {
  "kernelspec": {
   "display_name": "langchain_env",
   "language": "python",
   "name": "python3"
  },
  "language_info": {
   "codemirror_mode": {
    "name": "ipython",
    "version": 3
   },
   "file_extension": ".py",
   "mimetype": "text/x-python",
   "name": "python",
   "nbconvert_exporter": "python",
   "pygments_lexer": "ipython3",
   "version": "3.12.9"
  }
 },
 "nbformat": 4,
 "nbformat_minor": 5
}
